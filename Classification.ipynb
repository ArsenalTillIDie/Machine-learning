{
 "cells": [
  {
   "cell_type": "code",
   "execution_count": 2,
   "id": "af827c12",
   "metadata": {},
   "outputs": [],
   "source": [
    "import numpy as np\n",
    "import matplotlib.pyplot as plt\n",
    "import pandas as pd\n",
    "%matplotlib inline\n",
    "import seaborn as sns           \n",
    "import sklearn                 "
   ]
  },
  {
   "cell_type": "code",
   "execution_count": 3,
   "id": "6740b331",
   "metadata": {},
   "outputs": [],
   "source": [
    "#url = 'https://www.kaggle.com/datasets/adityaramachandran27/nasa-near-earth-objects-information'\n",
    "data = pd.read_csv(\"NASA Near-Earth Objects.csv\")\n",
    "initial_data = data"
   ]
  },
  {
   "cell_type": "code",
   "execution_count": 4,
   "id": "db7350a0",
   "metadata": {},
   "outputs": [
    {
     "data": {
      "text/html": [
       "<div>\n",
       "<style scoped>\n",
       "    .dataframe tbody tr th:only-of-type {\n",
       "        vertical-align: middle;\n",
       "    }\n",
       "\n",
       "    .dataframe tbody tr th {\n",
       "        vertical-align: top;\n",
       "    }\n",
       "\n",
       "    .dataframe thead th {\n",
       "        text-align: right;\n",
       "    }\n",
       "</style>\n",
       "<table border=\"1\" class=\"dataframe\">\n",
       "  <thead>\n",
       "    <tr style=\"text-align: right;\">\n",
       "      <th></th>\n",
       "      <th>Unnamed: 0</th>\n",
       "      <th>id</th>\n",
       "      <th>neo_reference_id</th>\n",
       "      <th>name</th>\n",
       "      <th>name_limited</th>\n",
       "      <th>designation</th>\n",
       "      <th>absolute_magnitude_h</th>\n",
       "      <th>is_potentially_hazardous_asteroid</th>\n",
       "      <th>is_sentry_object</th>\n",
       "      <th>kilometers_estimated_diameter_min</th>\n",
       "      <th>kilometers_estimated_diameter_max</th>\n",
       "      <th>orbit_id</th>\n",
       "      <th>orbit_class_type</th>\n",
       "      <th>perihelion_distance</th>\n",
       "      <th>aphelion_distance</th>\n",
       "      <th>first_observation_date</th>\n",
       "      <th>last_observation_date</th>\n",
       "      <th>orbit_class_description</th>\n",
       "    </tr>\n",
       "  </thead>\n",
       "  <tbody>\n",
       "    <tr>\n",
       "      <th>0</th>\n",
       "      <td>0</td>\n",
       "      <td>2001981</td>\n",
       "      <td>2001981</td>\n",
       "      <td>1981 Midas (1973 EA)</td>\n",
       "      <td>Midas</td>\n",
       "      <td>1981</td>\n",
       "      <td>15.22</td>\n",
       "      <td>True</td>\n",
       "      <td>False</td>\n",
       "      <td>2.401900</td>\n",
       "      <td>5.370812</td>\n",
       "      <td>229</td>\n",
       "      <td>APO</td>\n",
       "      <td>0.621512</td>\n",
       "      <td>2.931360</td>\n",
       "      <td>1973-03-06</td>\n",
       "      <td>2021-10-20</td>\n",
       "      <td>Near-Earth asteroid orbits which cross the Ear...</td>\n",
       "    </tr>\n",
       "    <tr>\n",
       "      <th>1</th>\n",
       "      <td>1</td>\n",
       "      <td>2002059</td>\n",
       "      <td>2002059</td>\n",
       "      <td>2059 Baboquivari (1963 UA)</td>\n",
       "      <td>Baboquivari</td>\n",
       "      <td>2059</td>\n",
       "      <td>15.97</td>\n",
       "      <td>False</td>\n",
       "      <td>False</td>\n",
       "      <td>1.700415</td>\n",
       "      <td>3.802244</td>\n",
       "      <td>268</td>\n",
       "      <td>AMO</td>\n",
       "      <td>1.238537</td>\n",
       "      <td>4.047945</td>\n",
       "      <td>1963-10-16</td>\n",
       "      <td>2021-04-15</td>\n",
       "      <td>Near-Earth asteroid orbits similar to that of ...</td>\n",
       "    </tr>\n",
       "    <tr>\n",
       "      <th>2</th>\n",
       "      <td>2</td>\n",
       "      <td>2002061</td>\n",
       "      <td>2002061</td>\n",
       "      <td>2061 Anza (1960 UA)</td>\n",
       "      <td>Anza</td>\n",
       "      <td>2061</td>\n",
       "      <td>16.36</td>\n",
       "      <td>False</td>\n",
       "      <td>False</td>\n",
       "      <td>1.420872</td>\n",
       "      <td>3.177167</td>\n",
       "      <td>180</td>\n",
       "      <td>AMO</td>\n",
       "      <td>1.050403</td>\n",
       "      <td>3.478155</td>\n",
       "      <td>1960-10-22</td>\n",
       "      <td>2021-06-12</td>\n",
       "      <td>Near-Earth asteroid orbits similar to that of ...</td>\n",
       "    </tr>\n",
       "    <tr>\n",
       "      <th>3</th>\n",
       "      <td>3</td>\n",
       "      <td>2002062</td>\n",
       "      <td>2002062</td>\n",
       "      <td>2062 Aten (1976 AA)</td>\n",
       "      <td>Aten</td>\n",
       "      <td>2062</td>\n",
       "      <td>17.10</td>\n",
       "      <td>False</td>\n",
       "      <td>False</td>\n",
       "      <td>1.010543</td>\n",
       "      <td>2.259644</td>\n",
       "      <td>149</td>\n",
       "      <td>ATE</td>\n",
       "      <td>0.790185</td>\n",
       "      <td>1.143633</td>\n",
       "      <td>1955-12-17</td>\n",
       "      <td>2019-11-10</td>\n",
       "      <td>Near-Earth asteroid orbits similar to that of ...</td>\n",
       "    </tr>\n",
       "    <tr>\n",
       "      <th>4</th>\n",
       "      <td>4</td>\n",
       "      <td>2002063</td>\n",
       "      <td>2002063</td>\n",
       "      <td>2063 Bacchus (1977 HB)</td>\n",
       "      <td>Bacchus</td>\n",
       "      <td>2063</td>\n",
       "      <td>17.28</td>\n",
       "      <td>False</td>\n",
       "      <td>False</td>\n",
       "      <td>0.930154</td>\n",
       "      <td>2.079888</td>\n",
       "      <td>143</td>\n",
       "      <td>APO</td>\n",
       "      <td>0.701397</td>\n",
       "      <td>1.454804</td>\n",
       "      <td>1977-04-24</td>\n",
       "      <td>2021-12-02</td>\n",
       "      <td>Near-Earth asteroid orbits which cross the Ear...</td>\n",
       "    </tr>\n",
       "    <tr>\n",
       "      <th>...</th>\n",
       "      <td>...</td>\n",
       "      <td>...</td>\n",
       "      <td>...</td>\n",
       "      <td>...</td>\n",
       "      <td>...</td>\n",
       "      <td>...</td>\n",
       "      <td>...</td>\n",
       "      <td>...</td>\n",
       "      <td>...</td>\n",
       "      <td>...</td>\n",
       "      <td>...</td>\n",
       "      <td>...</td>\n",
       "      <td>...</td>\n",
       "      <td>...</td>\n",
       "      <td>...</td>\n",
       "      <td>...</td>\n",
       "      <td>...</td>\n",
       "      <td>...</td>\n",
       "    </tr>\n",
       "    <tr>\n",
       "      <th>23995</th>\n",
       "      <td>23995</td>\n",
       "      <td>54073361</td>\n",
       "      <td>54073361</td>\n",
       "      <td>(2020 UQ)</td>\n",
       "      <td>NaN</td>\n",
       "      <td>2020 UQ</td>\n",
       "      <td>26.90</td>\n",
       "      <td>False</td>\n",
       "      <td>False</td>\n",
       "      <td>0.011080</td>\n",
       "      <td>0.024777</td>\n",
       "      <td>3</td>\n",
       "      <td>APO</td>\n",
       "      <td>0.608650</td>\n",
       "      <td>1.901363</td>\n",
       "      <td>2020-10-16</td>\n",
       "      <td>2020-10-19</td>\n",
       "      <td>Near-Earth asteroid orbits which cross the Ear...</td>\n",
       "    </tr>\n",
       "    <tr>\n",
       "      <th>23996</th>\n",
       "      <td>23996</td>\n",
       "      <td>54073362</td>\n",
       "      <td>54073362</td>\n",
       "      <td>(2020 UR)</td>\n",
       "      <td>NaN</td>\n",
       "      <td>2020 UR</td>\n",
       "      <td>27.90</td>\n",
       "      <td>False</td>\n",
       "      <td>False</td>\n",
       "      <td>0.006991</td>\n",
       "      <td>0.015633</td>\n",
       "      <td>4</td>\n",
       "      <td>APO</td>\n",
       "      <td>0.732739</td>\n",
       "      <td>1.887929</td>\n",
       "      <td>2020-10-16</td>\n",
       "      <td>2020-10-19</td>\n",
       "      <td>Near-Earth asteroid orbits which cross the Ear...</td>\n",
       "    </tr>\n",
       "    <tr>\n",
       "      <th>23997</th>\n",
       "      <td>23997</td>\n",
       "      <td>54073363</td>\n",
       "      <td>54073363</td>\n",
       "      <td>(2020 US)</td>\n",
       "      <td>NaN</td>\n",
       "      <td>2020 US</td>\n",
       "      <td>27.20</td>\n",
       "      <td>False</td>\n",
       "      <td>False</td>\n",
       "      <td>0.009651</td>\n",
       "      <td>0.021579</td>\n",
       "      <td>5</td>\n",
       "      <td>APO</td>\n",
       "      <td>0.788983</td>\n",
       "      <td>2.851299</td>\n",
       "      <td>2020-10-16</td>\n",
       "      <td>2020-10-21</td>\n",
       "      <td>Near-Earth asteroid orbits which cross the Ear...</td>\n",
       "    </tr>\n",
       "    <tr>\n",
       "      <th>23998</th>\n",
       "      <td>23998</td>\n",
       "      <td>54073365</td>\n",
       "      <td>54073365</td>\n",
       "      <td>(2020 UT)</td>\n",
       "      <td>NaN</td>\n",
       "      <td>2020 UT</td>\n",
       "      <td>27.33</td>\n",
       "      <td>False</td>\n",
       "      <td>False</td>\n",
       "      <td>0.009090</td>\n",
       "      <td>0.020325</td>\n",
       "      <td>2</td>\n",
       "      <td>AMO</td>\n",
       "      <td>1.045124</td>\n",
       "      <td>4.170737</td>\n",
       "      <td>2020-10-15</td>\n",
       "      <td>2020-10-18</td>\n",
       "      <td>Near-Earth asteroid orbits similar to that of ...</td>\n",
       "    </tr>\n",
       "    <tr>\n",
       "      <th>23999</th>\n",
       "      <td>23999</td>\n",
       "      <td>54073367</td>\n",
       "      <td>54073367</td>\n",
       "      <td>(2020 UU)</td>\n",
       "      <td>NaN</td>\n",
       "      <td>2020 UU</td>\n",
       "      <td>28.81</td>\n",
       "      <td>False</td>\n",
       "      <td>False</td>\n",
       "      <td>0.004598</td>\n",
       "      <td>0.010281</td>\n",
       "      <td>2</td>\n",
       "      <td>APO</td>\n",
       "      <td>0.928007</td>\n",
       "      <td>2.201763</td>\n",
       "      <td>2020-10-17</td>\n",
       "      <td>2020-10-18</td>\n",
       "      <td>Near-Earth asteroid orbits which cross the Ear...</td>\n",
       "    </tr>\n",
       "  </tbody>\n",
       "</table>\n",
       "<p>24000 rows × 18 columns</p>\n",
       "</div>"
      ],
      "text/plain": [
       "       Unnamed: 0        id  neo_reference_id                        name  \\\n",
       "0               0   2001981           2001981        1981 Midas (1973 EA)   \n",
       "1               1   2002059           2002059  2059 Baboquivari (1963 UA)   \n",
       "2               2   2002061           2002061         2061 Anza (1960 UA)   \n",
       "3               3   2002062           2002062         2062 Aten (1976 AA)   \n",
       "4               4   2002063           2002063      2063 Bacchus (1977 HB)   \n",
       "...           ...       ...               ...                         ...   \n",
       "23995       23995  54073361          54073361                   (2020 UQ)   \n",
       "23996       23996  54073362          54073362                   (2020 UR)   \n",
       "23997       23997  54073363          54073363                   (2020 US)   \n",
       "23998       23998  54073365          54073365                   (2020 UT)   \n",
       "23999       23999  54073367          54073367                   (2020 UU)   \n",
       "\n",
       "      name_limited designation  absolute_magnitude_h  \\\n",
       "0            Midas        1981                 15.22   \n",
       "1      Baboquivari        2059                 15.97   \n",
       "2             Anza        2061                 16.36   \n",
       "3             Aten        2062                 17.10   \n",
       "4          Bacchus        2063                 17.28   \n",
       "...            ...         ...                   ...   \n",
       "23995          NaN     2020 UQ                 26.90   \n",
       "23996          NaN     2020 UR                 27.90   \n",
       "23997          NaN     2020 US                 27.20   \n",
       "23998          NaN     2020 UT                 27.33   \n",
       "23999          NaN     2020 UU                 28.81   \n",
       "\n",
       "       is_potentially_hazardous_asteroid  is_sentry_object  \\\n",
       "0                                   True             False   \n",
       "1                                  False             False   \n",
       "2                                  False             False   \n",
       "3                                  False             False   \n",
       "4                                  False             False   \n",
       "...                                  ...               ...   \n",
       "23995                              False             False   \n",
       "23996                              False             False   \n",
       "23997                              False             False   \n",
       "23998                              False             False   \n",
       "23999                              False             False   \n",
       "\n",
       "       kilometers_estimated_diameter_min  kilometers_estimated_diameter_max  \\\n",
       "0                               2.401900                           5.370812   \n",
       "1                               1.700415                           3.802244   \n",
       "2                               1.420872                           3.177167   \n",
       "3                               1.010543                           2.259644   \n",
       "4                               0.930154                           2.079888   \n",
       "...                                  ...                                ...   \n",
       "23995                           0.011080                           0.024777   \n",
       "23996                           0.006991                           0.015633   \n",
       "23997                           0.009651                           0.021579   \n",
       "23998                           0.009090                           0.020325   \n",
       "23999                           0.004598                           0.010281   \n",
       "\n",
       "      orbit_id orbit_class_type  perihelion_distance  aphelion_distance  \\\n",
       "0          229              APO             0.621512           2.931360   \n",
       "1          268              AMO             1.238537           4.047945   \n",
       "2          180              AMO             1.050403           3.478155   \n",
       "3          149              ATE             0.790185           1.143633   \n",
       "4          143              APO             0.701397           1.454804   \n",
       "...        ...              ...                  ...                ...   \n",
       "23995        3              APO             0.608650           1.901363   \n",
       "23996        4              APO             0.732739           1.887929   \n",
       "23997        5              APO             0.788983           2.851299   \n",
       "23998        2              AMO             1.045124           4.170737   \n",
       "23999        2              APO             0.928007           2.201763   \n",
       "\n",
       "      first_observation_date last_observation_date  \\\n",
       "0                 1973-03-06            2021-10-20   \n",
       "1                 1963-10-16            2021-04-15   \n",
       "2                 1960-10-22            2021-06-12   \n",
       "3                 1955-12-17            2019-11-10   \n",
       "4                 1977-04-24            2021-12-02   \n",
       "...                      ...                   ...   \n",
       "23995             2020-10-16            2020-10-19   \n",
       "23996             2020-10-16            2020-10-19   \n",
       "23997             2020-10-16            2020-10-21   \n",
       "23998             2020-10-15            2020-10-18   \n",
       "23999             2020-10-17            2020-10-18   \n",
       "\n",
       "                                 orbit_class_description  \n",
       "0      Near-Earth asteroid orbits which cross the Ear...  \n",
       "1      Near-Earth asteroid orbits similar to that of ...  \n",
       "2      Near-Earth asteroid orbits similar to that of ...  \n",
       "3      Near-Earth asteroid orbits similar to that of ...  \n",
       "4      Near-Earth asteroid orbits which cross the Ear...  \n",
       "...                                                  ...  \n",
       "23995  Near-Earth asteroid orbits which cross the Ear...  \n",
       "23996  Near-Earth asteroid orbits which cross the Ear...  \n",
       "23997  Near-Earth asteroid orbits which cross the Ear...  \n",
       "23998  Near-Earth asteroid orbits similar to that of ...  \n",
       "23999  Near-Earth asteroid orbits which cross the Ear...  \n",
       "\n",
       "[24000 rows x 18 columns]"
      ]
     },
     "execution_count": 4,
     "metadata": {},
     "output_type": "execute_result"
    }
   ],
   "source": [
    "data"
   ]
  },
  {
   "cell_type": "markdown",
   "id": "5d63469c",
   "metadata": {},
   "source": [
    "Набор данных, созданный А. Рамачандраном на основе информации с официального сайта NASA, содержит информацию об околоземных небесных объектах.\n",
    "\n",
    "id: Идентификационный номер небесного тела по NASA (числовое)<br>\n",
    "neo_reference_id: Идентификационный номер небесного тела по NASA (равен id)<br>\n",
    "name: Официальное название (текстовое)<br>\n",
    "name_limited: Короткое название (текстовое)<br>\n",
    "designation: Число, используемое в официальном названии (числовое)<br>\n",
    "absolute_magnitude: Абсолютная звездная величина (числовое)<br>\n",
    "is_potentially_hazardous_asteroid: Является ли объект потенциально опасным для Земли (бинарное)<br>\n",
    "is_sentry_object: Присутствует ли объект в системе мониторинга Sentry (бинарное)<br>\n",
    "kilometers_estimated_diameter_min: Нижняя оценка диаметра объекта (числовое)<br>\n",
    "kilometers_estimated_diameter_max: Верхняя оценка диаметра объекта (числовое)<br>\n",
    "orbit_id: Идентификационный номер орбиты (числовое)<br>\n",
    "orbit_class_type: Класс орбиты (категориальное)<br>\n",
    "perihelion_distance: Перигелиевое расстояние до Земли (числовое)<br>\n",
    "aphelion_distance: Афелиевое расстояние до Земли (числовое)<br>\n",
    "first_observation_date: Дата первого наблюдения объекта (текстовое)<br>\n",
    "last_observation_date: Дата последнего на текущий момент наблюдения объекта (текстовое)<br>\n",
    "orbit_class_description: Описание класса орбиты (текстовое)<br>\n",
    "\n",
    "Некоторые из этих полей, такие как различные идентификационные номера, смысловой нагрузки не несут и не будут учитываться при решении задачи.\n",
    "\n",
    "Задача классификации состоит в том, чтобы предсказать, представляет ли объект потенциальную опасность для планеты Земля."
   ]
  },
  {
   "cell_type": "code",
   "execution_count": 5,
   "id": "95596a30",
   "metadata": {},
   "outputs": [
    {
     "data": {
      "text/html": [
       "<div>\n",
       "<style scoped>\n",
       "    .dataframe tbody tr th:only-of-type {\n",
       "        vertical-align: middle;\n",
       "    }\n",
       "\n",
       "    .dataframe tbody tr th {\n",
       "        vertical-align: top;\n",
       "    }\n",
       "\n",
       "    .dataframe thead th {\n",
       "        text-align: right;\n",
       "    }\n",
       "</style>\n",
       "<table border=\"1\" class=\"dataframe\">\n",
       "  <thead>\n",
       "    <tr style=\"text-align: right;\">\n",
       "      <th></th>\n",
       "      <th>Unnamed: 0</th>\n",
       "      <th>id</th>\n",
       "      <th>neo_reference_id</th>\n",
       "      <th>absolute_magnitude_h</th>\n",
       "      <th>kilometers_estimated_diameter_min</th>\n",
       "      <th>kilometers_estimated_diameter_max</th>\n",
       "      <th>perihelion_distance</th>\n",
       "      <th>aphelion_distance</th>\n",
       "    </tr>\n",
       "  </thead>\n",
       "  <tbody>\n",
       "    <tr>\n",
       "      <th>count</th>\n",
       "      <td>24000.000000</td>\n",
       "      <td>2.400000e+04</td>\n",
       "      <td>2.400000e+04</td>\n",
       "      <td>23992.000000</td>\n",
       "      <td>23992.000000</td>\n",
       "      <td>23992.000000</td>\n",
       "      <td>24000.000000</td>\n",
       "      <td>24000.000000</td>\n",
       "    </tr>\n",
       "    <tr>\n",
       "      <th>mean</th>\n",
       "      <td>11999.500000</td>\n",
       "      <td>7.275111e+06</td>\n",
       "      <td>7.275111e+06</td>\n",
       "      <td>22.942274</td>\n",
       "      <td>0.167777</td>\n",
       "      <td>0.375160</td>\n",
       "      <td>0.915225</td>\n",
       "      <td>2.653104</td>\n",
       "    </tr>\n",
       "    <tr>\n",
       "      <th>std</th>\n",
       "      <td>6928.347566</td>\n",
       "      <td>1.333987e+07</td>\n",
       "      <td>1.333987e+07</td>\n",
       "      <td>2.952871</td>\n",
       "      <td>0.293000</td>\n",
       "      <td>0.655169</td>\n",
       "      <td>0.232201</td>\n",
       "      <td>4.468233</td>\n",
       "    </tr>\n",
       "    <tr>\n",
       "      <th>min</th>\n",
       "      <td>0.000000</td>\n",
       "      <td>2.001981e+06</td>\n",
       "      <td>2.001981e+06</td>\n",
       "      <td>12.580000</td>\n",
       "      <td>0.000609</td>\n",
       "      <td>0.001362</td>\n",
       "      <td>0.070431</td>\n",
       "      <td>0.653754</td>\n",
       "    </tr>\n",
       "    <tr>\n",
       "      <th>25%</th>\n",
       "      <td>5999.750000</td>\n",
       "      <td>3.409962e+06</td>\n",
       "      <td>3.409962e+06</td>\n",
       "      <td>20.650000</td>\n",
       "      <td>0.024241</td>\n",
       "      <td>0.054205</td>\n",
       "      <td>0.785150</td>\n",
       "      <td>1.706281</td>\n",
       "    </tr>\n",
       "    <tr>\n",
       "      <th>50%</th>\n",
       "      <td>11999.500000</td>\n",
       "      <td>3.703790e+06</td>\n",
       "      <td>3.703790e+06</td>\n",
       "      <td>23.200000</td>\n",
       "      <td>0.060891</td>\n",
       "      <td>0.136157</td>\n",
       "      <td>0.965325</td>\n",
       "      <td>2.480109</td>\n",
       "    </tr>\n",
       "    <tr>\n",
       "      <th>75%</th>\n",
       "      <td>17999.250000</td>\n",
       "      <td>3.803897e+06</td>\n",
       "      <td>3.803897e+06</td>\n",
       "      <td>25.200000</td>\n",
       "      <td>0.197040</td>\n",
       "      <td>0.440595</td>\n",
       "      <td>1.068984</td>\n",
       "      <td>3.397965</td>\n",
       "    </tr>\n",
       "    <tr>\n",
       "      <th>max</th>\n",
       "      <td>23999.000000</td>\n",
       "      <td>5.408749e+07</td>\n",
       "      <td>5.408749e+07</td>\n",
       "      <td>33.200000</td>\n",
       "      <td>8.101305</td>\n",
       "      <td>18.115068</td>\n",
       "      <td>1.299988</td>\n",
       "      <td>631.895456</td>\n",
       "    </tr>\n",
       "  </tbody>\n",
       "</table>\n",
       "</div>"
      ],
      "text/plain": [
       "         Unnamed: 0            id  neo_reference_id  absolute_magnitude_h  \\\n",
       "count  24000.000000  2.400000e+04      2.400000e+04          23992.000000   \n",
       "mean   11999.500000  7.275111e+06      7.275111e+06             22.942274   \n",
       "std     6928.347566  1.333987e+07      1.333987e+07              2.952871   \n",
       "min        0.000000  2.001981e+06      2.001981e+06             12.580000   \n",
       "25%     5999.750000  3.409962e+06      3.409962e+06             20.650000   \n",
       "50%    11999.500000  3.703790e+06      3.703790e+06             23.200000   \n",
       "75%    17999.250000  3.803897e+06      3.803897e+06             25.200000   \n",
       "max    23999.000000  5.408749e+07      5.408749e+07             33.200000   \n",
       "\n",
       "       kilometers_estimated_diameter_min  kilometers_estimated_diameter_max  \\\n",
       "count                       23992.000000                       23992.000000   \n",
       "mean                            0.167777                           0.375160   \n",
       "std                             0.293000                           0.655169   \n",
       "min                             0.000609                           0.001362   \n",
       "25%                             0.024241                           0.054205   \n",
       "50%                             0.060891                           0.136157   \n",
       "75%                             0.197040                           0.440595   \n",
       "max                             8.101305                          18.115068   \n",
       "\n",
       "       perihelion_distance  aphelion_distance  \n",
       "count         24000.000000       24000.000000  \n",
       "mean              0.915225           2.653104  \n",
       "std               0.232201           4.468233  \n",
       "min               0.070431           0.653754  \n",
       "25%               0.785150           1.706281  \n",
       "50%               0.965325           2.480109  \n",
       "75%               1.068984           3.397965  \n",
       "max               1.299988         631.895456  "
      ]
     },
     "execution_count": 5,
     "metadata": {},
     "output_type": "execute_result"
    }
   ],
   "source": [
    "data.describe()"
   ]
  },
  {
   "cell_type": "code",
   "execution_count": 6,
   "id": "3a76e097",
   "metadata": {},
   "outputs": [
    {
     "data": {
      "text/html": [
       "<div>\n",
       "<style scoped>\n",
       "    .dataframe tbody tr th:only-of-type {\n",
       "        vertical-align: middle;\n",
       "    }\n",
       "\n",
       "    .dataframe tbody tr th {\n",
       "        vertical-align: top;\n",
       "    }\n",
       "\n",
       "    .dataframe thead th {\n",
       "        text-align: right;\n",
       "    }\n",
       "</style>\n",
       "<table border=\"1\" class=\"dataframe\">\n",
       "  <thead>\n",
       "    <tr style=\"text-align: right;\">\n",
       "      <th></th>\n",
       "      <th>Unnamed: 0</th>\n",
       "      <th>id</th>\n",
       "      <th>neo_reference_id</th>\n",
       "      <th>absolute_magnitude_h</th>\n",
       "      <th>is_potentially_hazardous_asteroid</th>\n",
       "      <th>is_sentry_object</th>\n",
       "      <th>kilometers_estimated_diameter_min</th>\n",
       "      <th>kilometers_estimated_diameter_max</th>\n",
       "      <th>perihelion_distance</th>\n",
       "      <th>aphelion_distance</th>\n",
       "    </tr>\n",
       "  </thead>\n",
       "  <tbody>\n",
       "    <tr>\n",
       "      <th>Unnamed: 0</th>\n",
       "      <td>1.000000</td>\n",
       "      <td>0.479754</td>\n",
       "      <td>0.479754</td>\n",
       "      <td>0.457491</td>\n",
       "      <td>-0.195072</td>\n",
       "      <td>0.038921</td>\n",
       "      <td>-0.422163</td>\n",
       "      <td>-0.422163</td>\n",
       "      <td>0.023243</td>\n",
       "      <td>-0.002067</td>\n",
       "    </tr>\n",
       "    <tr>\n",
       "      <th>id</th>\n",
       "      <td>0.479754</td>\n",
       "      <td>1.000000</td>\n",
       "      <td>1.000000</td>\n",
       "      <td>0.148852</td>\n",
       "      <td>-0.058072</td>\n",
       "      <td>0.013747</td>\n",
       "      <td>-0.118195</td>\n",
       "      <td>-0.118195</td>\n",
       "      <td>0.010260</td>\n",
       "      <td>-0.005660</td>\n",
       "    </tr>\n",
       "    <tr>\n",
       "      <th>neo_reference_id</th>\n",
       "      <td>0.479754</td>\n",
       "      <td>1.000000</td>\n",
       "      <td>1.000000</td>\n",
       "      <td>0.148852</td>\n",
       "      <td>-0.058072</td>\n",
       "      <td>0.013747</td>\n",
       "      <td>-0.118195</td>\n",
       "      <td>-0.118195</td>\n",
       "      <td>0.010260</td>\n",
       "      <td>-0.005660</td>\n",
       "    </tr>\n",
       "    <tr>\n",
       "      <th>absolute_magnitude_h</th>\n",
       "      <td>0.457491</td>\n",
       "      <td>0.148852</td>\n",
       "      <td>0.148852</td>\n",
       "      <td>1.000000</td>\n",
       "      <td>-0.298137</td>\n",
       "      <td>0.283211</td>\n",
       "      <td>-0.715415</td>\n",
       "      <td>-0.715415</td>\n",
       "      <td>-0.036526</td>\n",
       "      <td>-0.074962</td>\n",
       "    </tr>\n",
       "    <tr>\n",
       "      <th>is_potentially_hazardous_asteroid</th>\n",
       "      <td>-0.195072</td>\n",
       "      <td>-0.058072</td>\n",
       "      <td>-0.058072</td>\n",
       "      <td>-0.298137</td>\n",
       "      <td>1.000000</td>\n",
       "      <td>-0.058774</td>\n",
       "      <td>0.175040</td>\n",
       "      <td>0.175040</td>\n",
       "      <td>-0.206415</td>\n",
       "      <td>0.009947</td>\n",
       "    </tr>\n",
       "    <tr>\n",
       "      <th>is_sentry_object</th>\n",
       "      <td>0.038921</td>\n",
       "      <td>0.013747</td>\n",
       "      <td>0.013747</td>\n",
       "      <td>0.283211</td>\n",
       "      <td>-0.058774</td>\n",
       "      <td>1.000000</td>\n",
       "      <td>-0.109334</td>\n",
       "      <td>-0.109334</td>\n",
       "      <td>-0.090673</td>\n",
       "      <td>-0.006609</td>\n",
       "    </tr>\n",
       "    <tr>\n",
       "      <th>kilometers_estimated_diameter_min</th>\n",
       "      <td>-0.422163</td>\n",
       "      <td>-0.118195</td>\n",
       "      <td>-0.118195</td>\n",
       "      <td>-0.715415</td>\n",
       "      <td>0.175040</td>\n",
       "      <td>-0.109334</td>\n",
       "      <td>1.000000</td>\n",
       "      <td>1.000000</td>\n",
       "      <td>-0.003524</td>\n",
       "      <td>0.054581</td>\n",
       "    </tr>\n",
       "    <tr>\n",
       "      <th>kilometers_estimated_diameter_max</th>\n",
       "      <td>-0.422163</td>\n",
       "      <td>-0.118195</td>\n",
       "      <td>-0.118195</td>\n",
       "      <td>-0.715415</td>\n",
       "      <td>0.175040</td>\n",
       "      <td>-0.109334</td>\n",
       "      <td>1.000000</td>\n",
       "      <td>1.000000</td>\n",
       "      <td>-0.003524</td>\n",
       "      <td>0.054581</td>\n",
       "    </tr>\n",
       "    <tr>\n",
       "      <th>perihelion_distance</th>\n",
       "      <td>0.023243</td>\n",
       "      <td>0.010260</td>\n",
       "      <td>0.010260</td>\n",
       "      <td>-0.036526</td>\n",
       "      <td>-0.206415</td>\n",
       "      <td>-0.090673</td>\n",
       "      <td>-0.003524</td>\n",
       "      <td>-0.003524</td>\n",
       "      <td>1.000000</td>\n",
       "      <td>0.052073</td>\n",
       "    </tr>\n",
       "    <tr>\n",
       "      <th>aphelion_distance</th>\n",
       "      <td>-0.002067</td>\n",
       "      <td>-0.005660</td>\n",
       "      <td>-0.005660</td>\n",
       "      <td>-0.074962</td>\n",
       "      <td>0.009947</td>\n",
       "      <td>-0.006609</td>\n",
       "      <td>0.054581</td>\n",
       "      <td>0.054581</td>\n",
       "      <td>0.052073</td>\n",
       "      <td>1.000000</td>\n",
       "    </tr>\n",
       "  </tbody>\n",
       "</table>\n",
       "</div>"
      ],
      "text/plain": [
       "                                   Unnamed: 0        id  neo_reference_id  \\\n",
       "Unnamed: 0                           1.000000  0.479754          0.479754   \n",
       "id                                   0.479754  1.000000          1.000000   \n",
       "neo_reference_id                     0.479754  1.000000          1.000000   \n",
       "absolute_magnitude_h                 0.457491  0.148852          0.148852   \n",
       "is_potentially_hazardous_asteroid   -0.195072 -0.058072         -0.058072   \n",
       "is_sentry_object                     0.038921  0.013747          0.013747   \n",
       "kilometers_estimated_diameter_min   -0.422163 -0.118195         -0.118195   \n",
       "kilometers_estimated_diameter_max   -0.422163 -0.118195         -0.118195   \n",
       "perihelion_distance                  0.023243  0.010260          0.010260   \n",
       "aphelion_distance                   -0.002067 -0.005660         -0.005660   \n",
       "\n",
       "                                   absolute_magnitude_h  \\\n",
       "Unnamed: 0                                     0.457491   \n",
       "id                                             0.148852   \n",
       "neo_reference_id                               0.148852   \n",
       "absolute_magnitude_h                           1.000000   \n",
       "is_potentially_hazardous_asteroid             -0.298137   \n",
       "is_sentry_object                               0.283211   \n",
       "kilometers_estimated_diameter_min             -0.715415   \n",
       "kilometers_estimated_diameter_max             -0.715415   \n",
       "perihelion_distance                           -0.036526   \n",
       "aphelion_distance                             -0.074962   \n",
       "\n",
       "                                   is_potentially_hazardous_asteroid  \\\n",
       "Unnamed: 0                                                 -0.195072   \n",
       "id                                                         -0.058072   \n",
       "neo_reference_id                                           -0.058072   \n",
       "absolute_magnitude_h                                       -0.298137   \n",
       "is_potentially_hazardous_asteroid                           1.000000   \n",
       "is_sentry_object                                           -0.058774   \n",
       "kilometers_estimated_diameter_min                           0.175040   \n",
       "kilometers_estimated_diameter_max                           0.175040   \n",
       "perihelion_distance                                        -0.206415   \n",
       "aphelion_distance                                           0.009947   \n",
       "\n",
       "                                   is_sentry_object  \\\n",
       "Unnamed: 0                                 0.038921   \n",
       "id                                         0.013747   \n",
       "neo_reference_id                           0.013747   \n",
       "absolute_magnitude_h                       0.283211   \n",
       "is_potentially_hazardous_asteroid         -0.058774   \n",
       "is_sentry_object                           1.000000   \n",
       "kilometers_estimated_diameter_min         -0.109334   \n",
       "kilometers_estimated_diameter_max         -0.109334   \n",
       "perihelion_distance                       -0.090673   \n",
       "aphelion_distance                         -0.006609   \n",
       "\n",
       "                                   kilometers_estimated_diameter_min  \\\n",
       "Unnamed: 0                                                 -0.422163   \n",
       "id                                                         -0.118195   \n",
       "neo_reference_id                                           -0.118195   \n",
       "absolute_magnitude_h                                       -0.715415   \n",
       "is_potentially_hazardous_asteroid                           0.175040   \n",
       "is_sentry_object                                           -0.109334   \n",
       "kilometers_estimated_diameter_min                           1.000000   \n",
       "kilometers_estimated_diameter_max                           1.000000   \n",
       "perihelion_distance                                        -0.003524   \n",
       "aphelion_distance                                           0.054581   \n",
       "\n",
       "                                   kilometers_estimated_diameter_max  \\\n",
       "Unnamed: 0                                                 -0.422163   \n",
       "id                                                         -0.118195   \n",
       "neo_reference_id                                           -0.118195   \n",
       "absolute_magnitude_h                                       -0.715415   \n",
       "is_potentially_hazardous_asteroid                           0.175040   \n",
       "is_sentry_object                                           -0.109334   \n",
       "kilometers_estimated_diameter_min                           1.000000   \n",
       "kilometers_estimated_diameter_max                           1.000000   \n",
       "perihelion_distance                                        -0.003524   \n",
       "aphelion_distance                                           0.054581   \n",
       "\n",
       "                                   perihelion_distance  aphelion_distance  \n",
       "Unnamed: 0                                    0.023243          -0.002067  \n",
       "id                                            0.010260          -0.005660  \n",
       "neo_reference_id                              0.010260          -0.005660  \n",
       "absolute_magnitude_h                         -0.036526          -0.074962  \n",
       "is_potentially_hazardous_asteroid            -0.206415           0.009947  \n",
       "is_sentry_object                             -0.090673          -0.006609  \n",
       "kilometers_estimated_diameter_min            -0.003524           0.054581  \n",
       "kilometers_estimated_diameter_max            -0.003524           0.054581  \n",
       "perihelion_distance                           1.000000           0.052073  \n",
       "aphelion_distance                             0.052073           1.000000  "
      ]
     },
     "execution_count": 6,
     "metadata": {},
     "output_type": "execute_result"
    }
   ],
   "source": [
    "data.corr()"
   ]
  },
  {
   "cell_type": "code",
   "execution_count": 7,
   "id": "dd27fed7",
   "metadata": {},
   "outputs": [
    {
     "data": {
      "text/plain": [
       "<AxesSubplot:>"
      ]
     },
     "execution_count": 7,
     "metadata": {},
     "output_type": "execute_result"
    },
    {
     "data": {
      "image/png": "[encoded data removed]",
      "text/plain": [
       "<Figure size 432x288 with 2 Axes>"
      ]
     },
     "metadata": {
      "needs_background": "light"
     },
     "output_type": "display_data"
    }
   ],
   "source": [
    "corr_mat = data.corr()\n",
    "sns.heatmap(corr_mat, square=True, fmt='.2f', vmin=-1, vmax=1, cmap='coolwarm')"
   ]
  },
  {
   "cell_type": "markdown",
   "id": "3e30f1fc",
   "metadata": {},
   "source": [
    "Из матрицы корреляций видно, что нижняя и верхняя оценки диаметра объекта сильно коррелируют, так как современные методы оценки размеров небесного тела довольно точны. Также стоит заметить, что абсолютная звездная величина имеет обратную корреляцию с диаметром объекта, но не коррелирует с расстоянием до Земли. Это соответствует физическому смыслу абсолютной звездной величины, которая, в отличие от относительной, характеризует действительную светимость объекта для наблюдателя, расположенного на фиксированном расстоянии."
   ]
  },
  {
   "cell_type": "code",
   "execution_count": 8,
   "id": "37b38895",
   "metadata": {},
   "outputs": [
    {
     "data": {
      "text/plain": [
       "Unnamed: 0                               0\n",
       "id                                       0\n",
       "neo_reference_id                         0\n",
       "name                                     0\n",
       "name_limited                         23856\n",
       "designation                              0\n",
       "absolute_magnitude_h                     8\n",
       "is_potentially_hazardous_asteroid        0\n",
       "is_sentry_object                         0\n",
       "kilometers_estimated_diameter_min        8\n",
       "kilometers_estimated_diameter_max        8\n",
       "orbit_id                                 0\n",
       "orbit_class_type                         0\n",
       "perihelion_distance                      0\n",
       "aphelion_distance                        0\n",
       "first_observation_date                   0\n",
       "last_observation_date                    0\n",
       "orbit_class_description                  0\n",
       "dtype: int64"
      ]
     },
     "execution_count": 8,
     "metadata": {},
     "output_type": "execute_result"
    }
   ],
   "source": [
    "data.isnull().sum()"
   ]
  },
  {
   "cell_type": "markdown",
   "id": "8392dc52",
   "metadata": {},
   "source": [
    "Пропущенные значения присутствуют в столбце, соответствующему короткому имени объекта. Само имя никак не влияет на характеристики небесного тела, однако сам факт существования короткого имени может говорить о том, что объект является более значимым: если короткое имя еще не устоялось, то, скорее всего, объект редко упоминается в научных статьях и исследованиях. Поэтому целесообразно заменить поле имени на бинарное, присвоив 1 для тех объектов, у которых соответствующее значение присутствует, и 0 для тех, у которых оно пропущено."
   ]
  },
  {
   "cell_type": "code",
   "execution_count": 9,
   "id": "5e79d2c6",
   "metadata": {},
   "outputs": [],
   "source": [
    "data[\"short_name_exists\"] = data[\"name_limited\"].notnull()"
   ]
  },
  {
   "cell_type": "markdown",
   "id": "96587fa8",
   "metadata": {},
   "source": [
    "Объекты, для которых отстутствуют значения в полях диаметра и звездной величины, можно удалить. Это не сильно повлияет на величину выборки, в то время как их присутствие (с записанными в эти ячейки, например, средними значениями соответствующего поля) может внести нежелательные помехи."
   ]
  },
  {
   "cell_type": "code",
   "execution_count": 10,
   "id": "b77576be",
   "metadata": {},
   "outputs": [],
   "source": [
    "data = data.dropna(subset = ['absolute_magnitude_h'])\n",
    "data = data.dropna(subset = ['kilometers_estimated_diameter_min'])\n",
    "data = data.dropna(subset = ['kilometers_estimated_diameter_max'])"
   ]
  },
  {
   "cell_type": "code",
   "execution_count": 11,
   "id": "c06ce20b",
   "metadata": {},
   "outputs": [
    {
     "data": {
      "text/plain": [
       "Unnamed: 0                               0\n",
       "id                                       0\n",
       "neo_reference_id                         0\n",
       "name                                     0\n",
       "name_limited                         23841\n",
       "designation                              0\n",
       "absolute_magnitude_h                     0\n",
       "is_potentially_hazardous_asteroid        0\n",
       "is_sentry_object                         0\n",
       "kilometers_estimated_diameter_min        0\n",
       "kilometers_estimated_diameter_max        0\n",
       "orbit_id                                 0\n",
       "orbit_class_type                         0\n",
       "perihelion_distance                      0\n",
       "aphelion_distance                        0\n",
       "first_observation_date                   0\n",
       "last_observation_date                    0\n",
       "orbit_class_description                  0\n",
       "short_name_exists                        0\n",
       "dtype: int64"
      ]
     },
     "execution_count": 11,
     "metadata": {},
     "output_type": "execute_result"
    }
   ],
   "source": [
    "data.isnull().sum()"
   ]
  },
  {
   "cell_type": "code",
   "execution_count": 12,
   "id": "123426b9",
   "metadata": {},
   "outputs": [],
   "source": [
    "data = data.drop(['id', 'neo_reference_id', 'name', 'name_limited', 'designation', 'orbit_id', 'orbit_class_description'], axis=1)"
   ]
  },
  {
   "cell_type": "markdown",
   "id": "40c33f86",
   "metadata": {},
   "source": [
    "Заменим бинарные признаки на числовые."
   ]
  },
  {
   "cell_type": "code",
   "execution_count": 13,
   "id": "0f9b52fc",
   "metadata": {},
   "outputs": [],
   "source": [
    "data['is_potentially_hazardous_asteroid'] = pd.factorize(data['is_potentially_hazardous_asteroid'])[0]\n",
    "data['is_sentry_object'] = 1 - pd.factorize(data['is_sentry_object'])[0]\n",
    "data['short_name_exists'] = 1 - pd.factorize(data['short_name_exists'])[0]"
   ]
  },
  {
   "cell_type": "markdown",
   "id": "48769367",
   "metadata": {},
   "source": [
    "Поле orbit_class_type является категориальным. Добавим несколько бинарных полей, соответствующих принадлежности орбиты объекта каждому из классов."
   ]
  },
  {
   "cell_type": "code",
   "execution_count": 14,
   "id": "6d20eb30",
   "metadata": {},
   "outputs": [
    {
     "data": {
      "text/plain": [
       "array(['APO', 'AMO', 'ATE', 'IEO'], dtype=object)"
      ]
     },
     "execution_count": 14,
     "metadata": {},
     "output_type": "execute_result"
    }
   ],
   "source": [
    "data.orbit_class_type.unique()"
   ]
  },
  {
   "cell_type": "code",
   "execution_count": 15,
   "id": "ac38810e",
   "metadata": {},
   "outputs": [],
   "source": [
    "data = pd.concat((data, pd.get_dummies(data['orbit_class_type'])), axis = 1)\n",
    "data = data.drop('orbit_class_type', axis = 1)"
   ]
  },
  {
   "cell_type": "markdown",
   "id": "7e144a84",
   "metadata": {},
   "source": [
    "Из полей, отвечающих за первую и последнюю дату наблюдения объекта, можно выделить год этих событий."
   ]
  },
  {
   "cell_type": "code",
   "execution_count": 16,
   "id": "368cebec",
   "metadata": {},
   "outputs": [],
   "source": [
    "data['first_observation_date'] = pd.to_datetime(data['first_observation_date'], errors = 'coerce', format= '%Y-%m-%d').dt.year\n",
    "data['last_observation_date'] = pd.to_datetime(data['last_observation_date'], errors = 'coerce', format= '%Y-%m-%d').dt.year"
   ]
  },
  {
   "cell_type": "code",
   "execution_count": 17,
   "id": "e4e3ef99",
   "metadata": {},
   "outputs": [
    {
     "data": {
      "text/plain": [
       "Unnamed: 0                           0\n",
       "absolute_magnitude_h                 0\n",
       "is_potentially_hazardous_asteroid    0\n",
       "is_sentry_object                     0\n",
       "kilometers_estimated_diameter_min    0\n",
       "kilometers_estimated_diameter_max    0\n",
       "perihelion_distance                  0\n",
       "aphelion_distance                    0\n",
       "first_observation_date               1\n",
       "last_observation_date                0\n",
       "short_name_exists                    0\n",
       "AMO                                  0\n",
       "APO                                  0\n",
       "ATE                                  0\n",
       "IEO                                  0\n",
       "dtype: int64"
      ]
     },
     "execution_count": 17,
     "metadata": {},
     "output_type": "execute_result"
    }
   ],
   "source": [
    "data.isnull().sum()"
   ]
  },
  {
   "cell_type": "code",
   "execution_count": 18,
   "id": "dc012af1",
   "metadata": {
    "scrolled": true
   },
   "outputs": [
    {
     "data": {
      "text/html": [
       "<div>\n",
       "<style scoped>\n",
       "    .dataframe tbody tr th:only-of-type {\n",
       "        vertical-align: middle;\n",
       "    }\n",
       "\n",
       "    .dataframe tbody tr th {\n",
       "        vertical-align: top;\n",
       "    }\n",
       "\n",
       "    .dataframe thead th {\n",
       "        text-align: right;\n",
       "    }\n",
       "</style>\n",
       "<table border=\"1\" class=\"dataframe\">\n",
       "  <thead>\n",
       "    <tr style=\"text-align: right;\">\n",
       "      <th></th>\n",
       "      <th>Unnamed: 0</th>\n",
       "      <th>absolute_magnitude_h</th>\n",
       "      <th>is_potentially_hazardous_asteroid</th>\n",
       "      <th>is_sentry_object</th>\n",
       "      <th>kilometers_estimated_diameter_min</th>\n",
       "      <th>kilometers_estimated_diameter_max</th>\n",
       "      <th>perihelion_distance</th>\n",
       "      <th>aphelion_distance</th>\n",
       "      <th>first_observation_date</th>\n",
       "      <th>last_observation_date</th>\n",
       "      <th>short_name_exists</th>\n",
       "      <th>AMO</th>\n",
       "      <th>APO</th>\n",
       "      <th>ATE</th>\n",
       "      <th>IEO</th>\n",
       "    </tr>\n",
       "  </thead>\n",
       "  <tbody>\n",
       "    <tr>\n",
       "      <th>20702</th>\n",
       "      <td>20702</td>\n",
       "      <td>20.6</td>\n",
       "      <td>1</td>\n",
       "      <td>1</td>\n",
       "      <td>0.20163</td>\n",
       "      <td>0.450858</td>\n",
       "      <td>1.077174</td>\n",
       "      <td>1.865083</td>\n",
       "      <td>NaN</td>\n",
       "      <td>2019</td>\n",
       "      <td>0</td>\n",
       "      <td>1</td>\n",
       "      <td>0</td>\n",
       "      <td>0</td>\n",
       "      <td>0</td>\n",
       "    </tr>\n",
       "  </tbody>\n",
       "</table>\n",
       "</div>"
      ],
      "text/plain": [
       "       Unnamed: 0  absolute_magnitude_h  is_potentially_hazardous_asteroid  \\\n",
       "20702       20702                  20.6                                  1   \n",
       "\n",
       "       is_sentry_object  kilometers_estimated_diameter_min  \\\n",
       "20702                 1                            0.20163   \n",
       "\n",
       "       kilometers_estimated_diameter_max  perihelion_distance  \\\n",
       "20702                           0.450858             1.077174   \n",
       "\n",
       "       aphelion_distance  first_observation_date  last_observation_date  \\\n",
       "20702           1.865083                     NaN                   2019   \n",
       "\n",
       "       short_name_exists  AMO  APO  ATE  IEO  \n",
       "20702                  0    1    0    0    0  "
      ]
     },
     "execution_count": 18,
     "metadata": {},
     "output_type": "execute_result"
    }
   ],
   "source": [
    "data[data['first_observation_date'].isnull()]"
   ]
  },
  {
   "cell_type": "code",
   "execution_count": 19,
   "id": "5fedee9b",
   "metadata": {
    "scrolled": true
   },
   "outputs": [
    {
     "data": {
      "text/plain": [
       "Unnamed: 0                                                                       20702\n",
       "id                                                                             3843794\n",
       "neo_reference_id                                                               3843794\n",
       "name                                                                        (2019 RN1)\n",
       "name_limited                                                                       NaN\n",
       "designation                                                                   2019 RN1\n",
       "absolute_magnitude_h                                                              20.6\n",
       "is_potentially_hazardous_asteroid                                                False\n",
       "is_sentry_object                                                                 False\n",
       "kilometers_estimated_diameter_min                                              0.20163\n",
       "kilometers_estimated_diameter_max                                             0.450858\n",
       "orbit_id                                                                     MPO508629\n",
       "orbit_class_type                                                                   AMO\n",
       "perihelion_distance                                                           1.077174\n",
       "aphelion_distance                                                             1.865083\n",
       "first_observation_date                                                      2008-??-??\n",
       "last_observation_date                                                       2019-09-06\n",
       "orbit_class_description              Near-Earth asteroid orbits similar to that of ...\n",
       "short_name_exists                                                                False\n",
       "Name: 20702, dtype: object"
      ]
     },
     "execution_count": 19,
     "metadata": {},
     "output_type": "execute_result"
    }
   ],
   "source": [
    "initial_data.iloc[20702]"
   ]
  },
  {
   "cell_type": "code",
   "execution_count": 20,
   "id": "1015915c",
   "metadata": {},
   "outputs": [],
   "source": [
    "data.loc[20702, 'first_observation_date'] = 2008"
   ]
  },
  {
   "cell_type": "markdown",
   "id": "d584f89d",
   "metadata": {},
   "source": [
    "Проведем стандардизацию."
   ]
  },
  {
   "cell_type": "code",
   "execution_count": 21,
   "id": "195f09c3",
   "metadata": {},
   "outputs": [
    {
     "data": {
      "text/html": [
       "<div>\n",
       "<style scoped>\n",
       "    .dataframe tbody tr th:only-of-type {\n",
       "        vertical-align: middle;\n",
       "    }\n",
       "\n",
       "    .dataframe tbody tr th {\n",
       "        vertical-align: top;\n",
       "    }\n",
       "\n",
       "    .dataframe thead th {\n",
       "        text-align: right;\n",
       "    }\n",
       "</style>\n",
       "<table border=\"1\" class=\"dataframe\">\n",
       "  <thead>\n",
       "    <tr style=\"text-align: right;\">\n",
       "      <th></th>\n",
       "      <th>Unnamed: 0</th>\n",
       "      <th>absolute_magnitude_h</th>\n",
       "      <th>is_potentially_hazardous_asteroid</th>\n",
       "      <th>is_sentry_object</th>\n",
       "      <th>kilometers_estimated_diameter_min</th>\n",
       "      <th>kilometers_estimated_diameter_max</th>\n",
       "      <th>perihelion_distance</th>\n",
       "      <th>aphelion_distance</th>\n",
       "      <th>first_observation_date</th>\n",
       "      <th>last_observation_date</th>\n",
       "      <th>short_name_exists</th>\n",
       "      <th>AMO</th>\n",
       "      <th>APO</th>\n",
       "      <th>ATE</th>\n",
       "      <th>IEO</th>\n",
       "    </tr>\n",
       "  </thead>\n",
       "  <tbody>\n",
       "    <tr>\n",
       "      <th>0</th>\n",
       "      <td>0</td>\n",
       "      <td>-2.615049</td>\n",
       "      <td>0</td>\n",
       "      <td>1</td>\n",
       "      <td>7.624271</td>\n",
       "      <td>7.624271</td>\n",
       "      <td>-1.264898</td>\n",
       "      <td>0.062186</td>\n",
       "      <td>-4.737941</td>\n",
       "      <td>0.993393</td>\n",
       "      <td>1</td>\n",
       "      <td>0</td>\n",
       "      <td>1</td>\n",
       "      <td>0</td>\n",
       "      <td>0</td>\n",
       "    </tr>\n",
       "    <tr>\n",
       "      <th>1</th>\n",
       "      <td>1</td>\n",
       "      <td>-2.361072</td>\n",
       "      <td>1</td>\n",
       "      <td>1</td>\n",
       "      <td>5.230367</td>\n",
       "      <td>5.230367</td>\n",
       "      <td>1.392636</td>\n",
       "      <td>0.312007</td>\n",
       "      <td>-5.958084</td>\n",
       "      <td>0.993393</td>\n",
       "      <td>1</td>\n",
       "      <td>1</td>\n",
       "      <td>0</td>\n",
       "      <td>0</td>\n",
       "      <td>0</td>\n",
       "    </tr>\n",
       "    <tr>\n",
       "      <th>2</th>\n",
       "      <td>2</td>\n",
       "      <td>-2.229005</td>\n",
       "      <td>1</td>\n",
       "      <td>1</td>\n",
       "      <td>4.276392</td>\n",
       "      <td>4.276392</td>\n",
       "      <td>0.582341</td>\n",
       "      <td>0.184524</td>\n",
       "      <td>-6.324127</td>\n",
       "      <td>0.993393</td>\n",
       "      <td>1</td>\n",
       "      <td>1</td>\n",
       "      <td>0</td>\n",
       "      <td>0</td>\n",
       "      <td>0</td>\n",
       "    </tr>\n",
       "    <tr>\n",
       "      <th>3</th>\n",
       "      <td>3</td>\n",
       "      <td>-1.978414</td>\n",
       "      <td>1</td>\n",
       "      <td>1</td>\n",
       "      <td>2.876095</td>\n",
       "      <td>2.876095</td>\n",
       "      <td>-0.538423</td>\n",
       "      <td>-0.337793</td>\n",
       "      <td>-6.934199</td>\n",
       "      <td>0.580143</td>\n",
       "      <td>1</td>\n",
       "      <td>0</td>\n",
       "      <td>0</td>\n",
       "      <td>1</td>\n",
       "      <td>0</td>\n",
       "    </tr>\n",
       "    <tr>\n",
       "      <th>4</th>\n",
       "      <td>4</td>\n",
       "      <td>-1.917460</td>\n",
       "      <td>1</td>\n",
       "      <td>1</td>\n",
       "      <td>2.601757</td>\n",
       "      <td>2.601757</td>\n",
       "      <td>-0.920833</td>\n",
       "      <td>-0.268173</td>\n",
       "      <td>-4.249884</td>\n",
       "      <td>0.993393</td>\n",
       "      <td>1</td>\n",
       "      <td>0</td>\n",
       "      <td>1</td>\n",
       "      <td>0</td>\n",
       "      <td>0</td>\n",
       "    </tr>\n",
       "    <tr>\n",
       "      <th>...</th>\n",
       "      <td>...</td>\n",
       "      <td>...</td>\n",
       "      <td>...</td>\n",
       "      <td>...</td>\n",
       "      <td>...</td>\n",
       "      <td>...</td>\n",
       "      <td>...</td>\n",
       "      <td>...</td>\n",
       "      <td>...</td>\n",
       "      <td>...</td>\n",
       "      <td>...</td>\n",
       "      <td>...</td>\n",
       "      <td>...</td>\n",
       "      <td>...</td>\n",
       "      <td>...</td>\n",
       "    </tr>\n",
       "    <tr>\n",
       "      <th>23995</th>\n",
       "      <td>23995</td>\n",
       "      <td>1.340212</td>\n",
       "      <td>1</td>\n",
       "      <td>1</td>\n",
       "      <td>-0.534695</td>\n",
       "      <td>-0.534695</td>\n",
       "      <td>-1.320295</td>\n",
       "      <td>-0.168261</td>\n",
       "      <td>0.996733</td>\n",
       "      <td>0.786768</td>\n",
       "      <td>0</td>\n",
       "      <td>0</td>\n",
       "      <td>1</td>\n",
       "      <td>0</td>\n",
       "      <td>0</td>\n",
       "    </tr>\n",
       "    <tr>\n",
       "      <th>23996</th>\n",
       "      <td>23996</td>\n",
       "      <td>1.678848</td>\n",
       "      <td>1</td>\n",
       "      <td>1</td>\n",
       "      <td>-0.548650</td>\n",
       "      <td>-0.548650</td>\n",
       "      <td>-0.785844</td>\n",
       "      <td>-0.171267</td>\n",
       "      <td>0.996733</td>\n",
       "      <td>0.786768</td>\n",
       "      <td>0</td>\n",
       "      <td>0</td>\n",
       "      <td>1</td>\n",
       "      <td>0</td>\n",
       "      <td>0</td>\n",
       "    </tr>\n",
       "    <tr>\n",
       "      <th>23997</th>\n",
       "      <td>23997</td>\n",
       "      <td>1.441803</td>\n",
       "      <td>1</td>\n",
       "      <td>1</td>\n",
       "      <td>-0.539574</td>\n",
       "      <td>-0.539574</td>\n",
       "      <td>-0.543597</td>\n",
       "      <td>0.044274</td>\n",
       "      <td>0.996733</td>\n",
       "      <td>0.786768</td>\n",
       "      <td>0</td>\n",
       "      <td>0</td>\n",
       "      <td>1</td>\n",
       "      <td>0</td>\n",
       "      <td>0</td>\n",
       "    </tr>\n",
       "    <tr>\n",
       "      <th>23998</th>\n",
       "      <td>23998</td>\n",
       "      <td>1.485825</td>\n",
       "      <td>1</td>\n",
       "      <td>1</td>\n",
       "      <td>-0.541488</td>\n",
       "      <td>-0.541488</td>\n",
       "      <td>0.559604</td>\n",
       "      <td>0.339480</td>\n",
       "      <td>0.996733</td>\n",
       "      <td>0.786768</td>\n",
       "      <td>0</td>\n",
       "      <td>1</td>\n",
       "      <td>0</td>\n",
       "      <td>0</td>\n",
       "      <td>0</td>\n",
       "    </tr>\n",
       "    <tr>\n",
       "      <th>23999</th>\n",
       "      <td>23999</td>\n",
       "      <td>1.987006</td>\n",
       "      <td>1</td>\n",
       "      <td>1</td>\n",
       "      <td>-0.556817</td>\n",
       "      <td>-0.556817</td>\n",
       "      <td>0.055177</td>\n",
       "      <td>-0.101051</td>\n",
       "      <td>0.996733</td>\n",
       "      <td>0.786768</td>\n",
       "      <td>0</td>\n",
       "      <td>0</td>\n",
       "      <td>1</td>\n",
       "      <td>0</td>\n",
       "      <td>0</td>\n",
       "    </tr>\n",
       "  </tbody>\n",
       "</table>\n",
       "<p>23985 rows × 15 columns</p>\n",
       "</div>"
      ],
      "text/plain": [
       "       Unnamed: 0  absolute_magnitude_h  is_potentially_hazardous_asteroid  \\\n",
       "0               0             -2.615049                                  0   \n",
       "1               1             -2.361072                                  1   \n",
       "2               2             -2.229005                                  1   \n",
       "3               3             -1.978414                                  1   \n",
       "4               4             -1.917460                                  1   \n",
       "...           ...                   ...                                ...   \n",
       "23995       23995              1.340212                                  1   \n",
       "23996       23996              1.678848                                  1   \n",
       "23997       23997              1.441803                                  1   \n",
       "23998       23998              1.485825                                  1   \n",
       "23999       23999              1.987006                                  1   \n",
       "\n",
       "       is_sentry_object  kilometers_estimated_diameter_min  \\\n",
       "0                     1                           7.624271   \n",
       "1                     1                           5.230367   \n",
       "2                     1                           4.276392   \n",
       "3                     1                           2.876095   \n",
       "4                     1                           2.601757   \n",
       "...                 ...                                ...   \n",
       "23995                 1                          -0.534695   \n",
       "23996                 1                          -0.548650   \n",
       "23997                 1                          -0.539574   \n",
       "23998                 1                          -0.541488   \n",
       "23999                 1                          -0.556817   \n",
       "\n",
       "       kilometers_estimated_diameter_max  perihelion_distance  \\\n",
       "0                               7.624271            -1.264898   \n",
       "1                               5.230367             1.392636   \n",
       "2                               4.276392             0.582341   \n",
       "3                               2.876095            -0.538423   \n",
       "4                               2.601757            -0.920833   \n",
       "...                                  ...                  ...   \n",
       "23995                          -0.534695            -1.320295   \n",
       "23996                          -0.548650            -0.785844   \n",
       "23997                          -0.539574            -0.543597   \n",
       "23998                          -0.541488             0.559604   \n",
       "23999                          -0.556817             0.055177   \n",
       "\n",
       "       aphelion_distance  first_observation_date  last_observation_date  \\\n",
       "0               0.062186               -4.737941               0.993393   \n",
       "1               0.312007               -5.958084               0.993393   \n",
       "2               0.184524               -6.324127               0.993393   \n",
       "3              -0.337793               -6.934199               0.580143   \n",
       "4              -0.268173               -4.249884               0.993393   \n",
       "...                  ...                     ...                    ...   \n",
       "23995          -0.168261                0.996733               0.786768   \n",
       "23996          -0.171267                0.996733               0.786768   \n",
       "23997           0.044274                0.996733               0.786768   \n",
       "23998           0.339480                0.996733               0.786768   \n",
       "23999          -0.101051                0.996733               0.786768   \n",
       "\n",
       "       short_name_exists  AMO  APO  ATE  IEO  \n",
       "0                      1    0    1    0    0  \n",
       "1                      1    1    0    0    0  \n",
       "2                      1    1    0    0    0  \n",
       "3                      1    0    0    1    0  \n",
       "4                      1    0    1    0    0  \n",
       "...                  ...  ...  ...  ...  ...  \n",
       "23995                  0    0    1    0    0  \n",
       "23996                  0    0    1    0    0  \n",
       "23997                  0    0    1    0    0  \n",
       "23998                  0    1    0    0    0  \n",
       "23999                  0    0    1    0    0  \n",
       "\n",
       "[23985 rows x 15 columns]"
      ]
     },
     "execution_count": 21,
     "metadata": {},
     "output_type": "execute_result"
    }
   ],
   "source": [
    "columns_to_standardise = ['absolute_magnitude_h', 'kilometers_estimated_diameter_min', 'kilometers_estimated_diameter_max',\n",
    "                         'perihelion_distance', 'aphelion_distance', 'first_observation_date', 'last_observation_date']\n",
    "\n",
    "data[columns_to_standardise] = (data[columns_to_standardise] - data[columns_to_standardise].mean(axis = 0))/data[columns_to_standardise].std(axis = 0)\n",
    "data"
   ]
  },
  {
   "cell_type": "markdown",
   "id": "480669c3",
   "metadata": {},
   "source": [
    "Разобъем выборку на обучающую и тестовую подвыборки."
   ]
  },
  {
   "cell_type": "code",
   "execution_count": 22,
   "id": "50f3018b",
   "metadata": {},
   "outputs": [
    {
     "data": {
      "text/plain": [
       "(17988, 5997)"
      ]
     },
     "execution_count": 22,
     "metadata": {},
     "output_type": "execute_result"
    }
   ],
   "source": [
    "X = data.drop(['is_potentially_hazardous_asteroid'], axis = 1)\n",
    "\n",
    "from sklearn.model_selection import train_test_split\n",
    "X_train, X_test, y_train, y_test = train_test_split(data, data['is_potentially_hazardous_asteroid'], test_size = 0.25, random_state = 42)\n",
    "\n",
    "N_train, _ = X_train.shape \n",
    "N_test,  _ = X_test.shape \n",
    "\n",
    "N_train, N_test"
   ]
  },
  {
   "cell_type": "markdown",
   "id": "8b875e75",
   "metadata": {},
   "source": [
    "Запустим классификатор ближайших соседей с различным числом соседей."
   ]
  },
  {
   "cell_type": "code",
   "execution_count": 23,
   "id": "11fa0396",
   "metadata": {},
   "outputs": [
    {
     "data": {
      "text/plain": [
       "KNeighborsClassifier(n_neighbors=10)"
      ]
     },
     "execution_count": 23,
     "metadata": {},
     "output_type": "execute_result"
    }
   ],
   "source": [
    "from sklearn.neighbors import KNeighborsClassifier\n",
    "\n",
    "knn = KNeighborsClassifier(n_neighbors = 10)\n",
    "knn.fit(X_train, y_train)"
   ]
  },
  {
   "cell_type": "code",
   "execution_count": 24,
   "id": "f52d5c8c",
   "metadata": {},
   "outputs": [
    {
     "name": "stdout",
     "output_type": "stream",
     "text": [
      "0.087877271969318\n",
      "0.08627974205025572\n"
     ]
    }
   ],
   "source": [
    "y_test_predict = knn.predict(X_test)\n",
    "y_train_predict = knn.predict(X_train)\n",
    "err_test  = np.mean(y_test  != y_test_predict)\n",
    "err_train  = np.mean(y_train != y_train_predict)\n",
    "print(err_test)\n",
    "print(err_train)"
   ]
  },
  {
   "cell_type": "code",
   "execution_count": 25,
   "id": "15b6dfa1",
   "metadata": {},
   "outputs": [
    {
     "data": {
      "text/plain": [
       "KNeighborsClassifier()"
      ]
     },
     "execution_count": 25,
     "metadata": {},
     "output_type": "execute_result"
    }
   ],
   "source": [
    "\n",
    "knn = KNeighborsClassifier(n_neighbors = 5)\n",
    "knn.fit(X_train, y_train)"
   ]
  },
  {
   "cell_type": "code",
   "execution_count": 26,
   "id": "fb1757f2",
   "metadata": {},
   "outputs": [
    {
     "name": "stdout",
     "output_type": "stream",
     "text": [
      "0.09171252292813073\n",
      "0.08133199911051812\n"
     ]
    }
   ],
   "source": [
    "y_test_predict = knn.predict(X_test)\n",
    "y_train_predict = knn.predict(X_train)\n",
    "err_test  = np.mean(y_test  != y_test_predict)\n",
    "err_train  = np.mean(y_train != y_train_predict)\n",
    "print(err_test)\n",
    "print(err_train)"
   ]
  },
  {
   "cell_type": "code",
   "execution_count": 27,
   "id": "a69d7f8c",
   "metadata": {},
   "outputs": [
    {
     "data": {
      "text/plain": [
       "KNeighborsClassifier(n_neighbors=40)"
      ]
     },
     "execution_count": 27,
     "metadata": {},
     "output_type": "execute_result"
    }
   ],
   "source": [
    "knn = KNeighborsClassifier(n_neighbors = 40)\n",
    "knn.fit(X_train, y_train)"
   ]
  },
  {
   "cell_type": "code",
   "execution_count": 28,
   "id": "c34f76bb",
   "metadata": {},
   "outputs": [
    {
     "name": "stdout",
     "output_type": "stream",
     "text": [
      "0.08420877105219277\n",
      "0.08828107627307094\n"
     ]
    }
   ],
   "source": [
    "y_test_predict = knn.predict(X_test)\n",
    "y_train_predict = knn.predict(X_train)\n",
    "err_test  = np.mean(y_test  != y_test_predict)\n",
    "err_train  = np.mean(y_train != y_train_predict)\n",
    "print(err_test)\n",
    "print(err_train)"
   ]
  },
  {
   "cell_type": "code",
   "execution_count": 29,
   "id": "752d248d",
   "metadata": {},
   "outputs": [
    {
     "data": {
      "text/plain": [
       "KNeighborsClassifier(n_neighbors=100)"
      ]
     },
     "execution_count": 29,
     "metadata": {},
     "output_type": "execute_result"
    }
   ],
   "source": [
    "knn = KNeighborsClassifier(n_neighbors = 100)\n",
    "knn.fit(X_train, y_train)"
   ]
  },
  {
   "cell_type": "code",
   "execution_count": 30,
   "id": "1b52c895",
   "metadata": {},
   "outputs": [
    {
     "name": "stdout",
     "output_type": "stream",
     "text": [
      "0.08420877105219277\n",
      "0.08828107627307094\n"
     ]
    }
   ],
   "source": [
    "y_test_predict = knn.predict(X_test)\n",
    "y_train_predict = knn.predict(X_train)\n",
    "err_test  = np.mean(y_test  != y_test_predict)\n",
    "err_train  = np.mean(y_train != y_train_predict)\n",
    "print(err_test)\n",
    "print(err_train)"
   ]
  },
  {
   "cell_type": "markdown",
   "id": "179e843c",
   "metadata": {},
   "source": [
    "Итак, был рассмотрен набор данных с описанием околоземных небесных объектов с задачей определить среди них представляющие потенциальную угрозу Земле. Для этого применялся классификатор ближайших соседей. Можно заметить, что при увеличении числа соседей ошибка уменьшается, но только до определенного значения. Поэтому в дальнейшем увеличении этого числа нет смысла, так как это лишь ухудшит производительность."
   ]
  },
  {
   "cell_type": "code",
   "execution_count": 57,
   "id": "25151336",
   "metadata": {},
   "outputs": [
    {
     "data": {
      "text/plain": [
       "0.09204602301150576"
      ]
     },
     "execution_count": 57,
     "metadata": {},
     "output_type": "execute_result"
    }
   ],
   "source": [
    "from sklearn.model_selection import train_test_split\n",
    "X_train, X_test, y_train, y_test = train_test_split(X, data['is_potentially_hazardous_asteroid'], test_size = 0.25, \n",
    "                                                    random_state = 231222)\n",
    "N_test, _ = X_test.shape\n",
    "\n",
    "from sklearn.linear_model import LogisticRegression\n",
    "#max_iter = max_iter * 10\n",
    "\n",
    "logistic_model = LogisticRegression(max_iter=500)\n",
    "logistic_model.fit(X_train, y_train)\n",
    "\n",
    "y_test_pred = logistic_model.predict(X_test)\n",
    "\n",
    "np.mean(y_test != y_test_pred)"
   ]
  },
  {
   "cell_type": "markdown",
   "id": "69b76f21",
   "metadata": {},
   "source": [
    "Для тренировочной выборки была обучена логистическая регрессия. Можно заметить, что значение средней ошибки примерно равно доле опасных астероидов в наборе данных, из чего можно делать вывод, что данный метод не оказался эффективным."
   ]
  },
  {
   "cell_type": "code",
   "execution_count": 32,
   "id": "5c3bb597",
   "metadata": {},
   "outputs": [
    {
     "name": "stdout",
     "output_type": "stream",
     "text": [
      "[[ 115  164]\n",
      " [ 391 5327]]\n"
     ]
    }
   ],
   "source": [
    "from sklearn.metrics import confusion_matrix\n",
    "print(confusion_matrix(y_test_pred, y_test))"
   ]
  },
  {
   "cell_type": "code",
   "execution_count": 61,
   "id": "3d75e8df",
   "metadata": {},
   "outputs": [
    {
     "name": "stdout",
     "output_type": "stream",
     "text": [
      "0.007274927729597496 0.05027632149408036\n",
      "[[ 215  181]\n",
      " [ 291 5310]]\n"
     ]
    }
   ],
   "source": [
    "from sklearn import ensemble\n",
    "rf_model = ensemble.RandomForestRegressor(n_estimators = 100)\n",
    "rf_model.fit(X_train, y_train)\n",
    "\n",
    "\n",
    "MSE_train = np.mean((rf_model.predict(X_train) - y_train)**2)\n",
    "\n",
    "y_test_pred_rf = rf_model.predict(X_test)\n",
    "MSE_test  = np.mean((y_test_pred_rf - y_test )**2)\n",
    "print(MSE_train, MSE_test)\n",
    "\n",
    "prediction_classes=[1 if prob>0.5 else 0 for prob in np.ravel(y_test_pred_rf)]\n",
    "print(confusion_matrix(prediction_classes, y_test))"
   ]
  },
  {
   "cell_type": "markdown",
   "id": "94a17488",
   "metadata": {},
   "source": [
    "RandomForest показал более удачные результаты. Из confusion matrix видно, что классификатор распознал более половины опасных астероидов.\n",
    "\n",
    "Далее была обучена полносвязная нейронная сеть MLPRegressor с одним скрытым слоем."
   ]
  },
  {
   "cell_type": "code",
   "execution_count": 49,
   "id": "176301c5",
   "metadata": {},
   "outputs": [
    {
     "data": {
      "text/plain": [
       "[<matplotlib.lines.Line2D at 0x1c94c712fa0>]"
      ]
     },
     "execution_count": 49,
     "metadata": {},
     "output_type": "execute_result"
    },
    {
     "data": {
      "image/png": "[encoded data removed]",
      "text/plain": [
       "<Figure size 432x288 with 1 Axes>"
      ]
     },
     "metadata": {
      "needs_background": "light"
     },
     "output_type": "display_data"
    }
   ],
   "source": [
    "from sklearn.neural_network import MLPRegressor\n",
    "from sklearn.metrics import mean_absolute_error\n",
    "\n",
    "nNeurs = []\n",
    "test_errors = []\n",
    "train_errors = []\n",
    "\n",
    "for neurons in range(2, 64, 2):\n",
    "\n",
    "    model = MLPRegressor(hidden_layer_sizes = (neurons, ), random_state=1)\n",
    "    model.fit(X_train, y_train)\n",
    "    \n",
    "    X_test_pred_regr = model.predict(X_test)\n",
    "    test_errors.append(mean_absolute_error(y_test, X_test_pred_regr))\n",
    "    \n",
    "    X_train_pred_regr= model.predict(X_train)\n",
    "    train_errors.append(mean_absolute_error(y_train, X_train_pred_regr))\n",
    "    \n",
    "    nNeurs.append(neurons)\n",
    "    \n",
    "#plt.plot(nNeurs, test_errors, label=\"Test data errors\")\n",
    "plt.plot(nNeurs, train_errors, label=\"Training data errors\")"
   ]
  },
  {
   "cell_type": "markdown",
   "id": "909f6893",
   "metadata": {},
   "source": [
    "График показывает зависимость ошибки от числа нейронов в слое."
   ]
  },
  {
   "cell_type": "code",
   "execution_count": 50,
   "id": "5c12d554",
   "metadata": {},
   "outputs": [
    {
     "data": {
      "text/plain": [
       "[<matplotlib.lines.Line2D at 0x1c94c774ca0>]"
      ]
     },
     "execution_count": 50,
     "metadata": {},
     "output_type": "execute_result"
    },
    {
     "data": {
      "image/png": "[encoded data removed]",
      "text/plain": [
       "<Figure size 432x288 with 1 Axes>"
      ]
     },
     "metadata": {
      "needs_background": "light"
     },
     "output_type": "display_data"
    }
   ],
   "source": [
    "alphas = []\n",
    "test_errors = []\n",
    "train_errors = []\n",
    "\n",
    "neurons = 44\n",
    "\n",
    "\n",
    "#print(np.geomspace(0.001, 0.5, 30))\n",
    "\n",
    "for alpha in np.geomspace(0.001, 1, 40):\n",
    "\n",
    "    model = MLPRegressor(hidden_layer_sizes = (neurons, ), alpha = alpha, random_state=1)\n",
    "    model.fit(X_train, y_train)\n",
    "    \n",
    "    X_test_pred_regr = model.predict(X_test)\n",
    "    test_errors.append(mean_absolute_error(y_test, X_test_pred_regr))\n",
    "    \n",
    "    X_train_pred_regr= model.predict(X_train)\n",
    "    train_errors.append(mean_absolute_error(y_train, X_train_pred_regr))\n",
    "    \n",
    "    alphas.append(alpha)\n",
    "    \n",
    "#plt.plot(alphas, test_errors, label=\"Test data errors\")\n",
    "plt.plot(alphas, train_errors, label=\"Training data errors\")\n",
    "\n"
   ]
  },
  {
   "cell_type": "markdown",
   "id": "e5818ff2",
   "metadata": {},
   "source": [
    "График показывает зависимость ошибки от параметра alpha. Заметим, что начиная с некоторого значения ошибка стабилизируется, после чего наблюдается переобучение."
   ]
  },
  {
   "cell_type": "code",
   "execution_count": 70,
   "id": "2dbb2d1e",
   "metadata": {},
   "outputs": [
    {
     "name": "stdout",
     "output_type": "stream",
     "text": [
      "[[  34  472]\n",
      " [  51 5440]]\n"
     ]
    }
   ],
   "source": [
    "neurons = 44\n",
    "alpha = 0.3\n",
    "\n",
    "model = MLPRegressor(hidden_layer_sizes = (neurons, ), alpha = alpha, random_state=1)\n",
    "model.fit(X_train, y_train)\n",
    "    \n",
    "X_test_pred_regr = model.predict(X_test)\n",
    "test_errors.append(mean_absolute_error(y_test, X_test_pred_regr))\n",
    "    \n",
    "X_train_pred_regr= model.predict(X_train)\n",
    "train_errors.append(mean_absolute_error(y_train, X_train_pred_regr))\n",
    "\n",
    "prediction_classes=[1 if prob>0.5 else 0 for prob in np.ravel(X_test_pred_regr)]\n",
    "print(confusion_matrix(y_test, prediction_classes))"
   ]
  },
  {
   "cell_type": "code",
   "execution_count": 72,
   "id": "eb42b0b1",
   "metadata": {},
   "outputs": [
    {
     "name": "stdout",
     "output_type": "stream",
     "text": [
      "Accuracy: 0.9127897281974321\n",
      "Precision: 0.9201623815967523\n",
      "Recall: 0.9907120743034056\n"
     ]
    }
   ],
   "source": [
    "from sklearn.metrics import accuracy_score, precision_score, recall_score\n",
    "print(f'Accuracy: {accuracy_score(y_test, prediction_classes)}')\n",
    "print(f'Precision: {precision_score(y_test, prediction_classes)}')\n",
    "print(f'Recall: {recall_score(y_test, prediction_classes)}')"
   ]
  },
  {
   "cell_type": "markdown",
   "id": "ab4dab07",
   "metadata": {},
   "source": [
    "При фиксированных параметрах обучен MLPRegressor. Судя по тому, что Accuracy не сильно выше, чем у классификатора, всегда возвращающего 0, можно сделать вывод о неудаче применения подхода."
   ]
  },
  {
   "cell_type": "markdown",
   "id": "01063461",
   "metadata": {},
   "source": [
    "Итак, были обучены логистическая регрессия, RandomForest и MLPRegressor. Из них наиболее приемлемый результат показал RandomForest."
   ]
  }
 ],
 "metadata": {
  "kernelspec": {
   "display_name": "Python 3",
   "language": "python",
   "name": "python3"
  },
  "language_info": {
   "codemirror_mode": {
    "name": "ipython",
    "version": 3
   },
   "file_extension": ".py",
   "mimetype": "text/x-python",
   "name": "python",
   "nbconvert_exporter": "python",
   "pygments_lexer": "ipython3",
   "version": "3.8.8"
  }
 },
 "nbformat": 4,
 "nbformat_minor": 5
}
